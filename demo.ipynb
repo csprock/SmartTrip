{
 "cells": [
  {
   "cell_type": "code",
   "execution_count": 1,
   "metadata": {
    "collapsed": true
   },
   "outputs": [],
   "source": [
    "import pandas as pd\n",
    "import matplotlib.pyplot as plt\n",
    "from matplotlib import collections\n",
    "from utils import TimeWindow\n",
    "\n",
    "from utils import TimeWindow, TripInterval, TripStats\n",
    "from tsp import backwards_search, restore, smart_trip, compute_arrival_time, compute_nrests_between, push_up_nearest_rest, smallest_nonzero\n",
    "\n",
    "%matplotlib inline\n",
    "\n",
    "# from IPython.core.interactiveshell import InteractiveShell\n",
    "# InteractiveShell.ast_node_interactivity = \"all\""
   ]
  },
  {
   "cell_type": "code",
   "execution_count": 7,
   "metadata": {},
   "outputs": [
    {
     "name": "stdout",
     "output_type": "stream",
     "text": [
      "0\n"
     ]
    }
   ],
   "source": [
    "\n",
    "\n",
    "# WINDOWS = (TimeWindow(10,15), \n",
    "#            TimeWindow(3,18), \n",
    "#            TimeWindow(10,18), \n",
    "#            TimeWindow(15,35), \n",
    "#            TimeWindow(40,45), \n",
    "#            TimeWindow(75, 100), \n",
    "#            TimeWindow(75,100))\n",
    "# travel_times = (6,2,4,10,10,15)\n",
    "\n",
    "# WINDOWS = (TimeWindow(0,10), \n",
    "#            TimeWindow(5,9),\n",
    "#            TimeWindow(40,40))\n",
    "# travel_times = (9,10)\n",
    "\n",
    "WINDOWS = (TimeWindow(10,20), TimeWindow(100,100))\n",
    "travel_times = (10,)\n",
    "\n",
    "# WINDOWS = (TimeWindow(0,10), TimeWindow(5,9), TimeWindow(40,40))\n",
    "# travel_times = (9,10)\n",
    "\n",
    "TS = TripStats(WINDOWS, travel_times)\n",
    "temp = smart_trip(TS)"
   ]
  },
  {
   "cell_type": "code",
   "execution_count": 3,
   "metadata": {},
   "outputs": [
    {
     "name": "stdout",
     "output_type": "stream",
     "text": [
      "array('f', [0.0, 9.0, 40.0]) array('f', [0.0, 30.0, 40.0])\n"
     ]
    }
   ],
   "source": [
    "t_d = temp[1].t_d\n",
    "t_a = temp[1].t_a\n",
    "print(t_d, t_a)"
   ]
  },
  {
   "cell_type": "code",
   "execution_count": 4,
   "metadata": {
    "collapsed": true
   },
   "outputs": [],
   "source": [
    "\n",
    "\n",
    "# legs = pd.DataFrame([\n",
    "#         ('drive', 89,100, 6),\n",
    "#         ('rest', 79, 89, 6),\n",
    "#         ('drive', 75,79, 6),\n",
    "#         ('drive', 68, 75, 5),\n",
    "#         ('rest', 58, 68, 5),\n",
    "#         ('drive', 55, 58, 5),\n",
    "#         ('rest', 45, 55, -100),\n",
    "#         ('drive', 35, 45, 4),\n",
    "#         ('drive', 34, 35, 3),\n",
    "#         ('rest', 24, 34, 3),\n",
    "#         ('drive', 21, 24, 3),\n",
    "#         ('wait', 18, 21, 3),\n",
    "#         ('drive', 16, 18, 2),\n",
    "#         ('drive', 10, 16, 1)], columns = ['type', 'end', 'start', 'last_stop'])\n",
    "\n",
    "legs = pd.DataFrame([\n",
    "  ('drive', 30.0, 40.0, 2),\n",
    "  ('wait', 29.0, 30.0, -1),\n",
    "  ('rest', 19.0, 29.0, -1),\n",
    "  ('rest', 9.0, 19.0, -1),\n",
    "  ('drive', 0.0, 9.0, 1)\n",
    "], columns = ['type', 'end', 'start', 'last_stop'])\n",
    "    \n",
    "def compute_rest_times(legs, last_stop):\n",
    "    temp = legs.loc[(legs['type'] == 'rest') & (legs['last_stop'] == last_stop), :]\n",
    "    temp = temp['start'] - temp['end']\n",
    "    return temp.sum()  \n",
    "    \n",
    "\n",
    "def compute_slope(p0, p1, rest_time):\n",
    "        return (p1[1] - p0[1])/(p1[0] - rest_time - p0[0])"
   ]
  },
  {
   "cell_type": "code",
   "execution_count": 5,
   "metadata": {
    "collapsed": true
   },
   "outputs": [],
   "source": [
    "s = len(WINDOWS)\n",
    "m = list()\n",
    "for i in reversed(range(s)):\n",
    "    rest_times = compute_rest_times(legs, i)\n",
    "    p0 = [t_a[i-1], 10*(i-1)]\n",
    "    p1 = [t_d[i], 10*i]\n",
    "    m.append(compute_slope(p0, p1, rest_times))\n",
    "    #print(rest_times, p0, p1)\n",
    "    \n",
    "m = list(reversed(m))"
   ]
  },
  {
   "cell_type": "code",
   "execution_count": null,
   "metadata": {
    "collapsed": true
   },
   "outputs": [],
   "source": []
  },
  {
   "cell_type": "code",
   "execution_count": 131,
   "metadata": {
    "collapsed": true
   },
   "outputs": [],
   "source": []
  },
  {
   "cell_type": "code",
   "execution_count": 6,
   "metadata": {},
   "outputs": [
    {
     "data": {
      "text/plain": [
       "<matplotlib.collections.LineCollection at 0x1ed1cf1a5c0>"
      ]
     },
     "execution_count": 6,
     "metadata": {},
     "output_type": "execute_result"
    },
    {
     "data": {
      "image/png": "[encoded data removed]",
      "text/plain": [
       "<Figure size 720x360 with 1 Axes>"
      ]
     },
     "metadata": {},
     "output_type": "display_data"
    }
   ],
   "source": [
    "%matplotlib inline\n",
    "\n",
    "fig = plt.figure(figsize=(10,5))\n",
    "\n",
    "ax = fig.add_subplot(111)\n",
    "ax.axis('off')\n",
    "ax.set_ylim(0 - 5, 10*len(WINDOWS)+5)\n",
    "ax.set_xlim(0 - 5, 100 + 5)\n",
    "\n",
    "#create line segments for time windows\n",
    "time_segments_coordinates = list()\n",
    "for i, w in enumerate(WINDOWS):\n",
    "    \n",
    "    # vertical bars\n",
    "    x_e, x_l = w.e, w.l\n",
    "    y0, y1 = 10*i - 2, 10*i + 2\n",
    "    \n",
    "    time_segments_coordinates.append([(x_e,y0), (x_e, y1)])\n",
    "    time_segments_coordinates.append([(x_l, y0), (x_l, y1)])\n",
    "    \n",
    "    # horizontal bars\n",
    "    time_segments_coordinates.append([(x_e, y0), (x_e + 1, y0)])\n",
    "    time_segments_coordinates.append([(x_e, y1), (x_e + 1, y1)])\n",
    "    time_segments_coordinates.append([(x_l, y0), (x_l - 1, y0)])\n",
    "    time_segments_coordinates.append([(x_l, y1), (x_l - 1, y1)])\n",
    "    \n",
    "    \n",
    "\n",
    "T = 10*len(travel_times)\n",
    "leg_colors = list()\n",
    "leg_segments = list()\n",
    "for leg in legs.itertuples(index=False):\n",
    "    \n",
    "    if leg[0] == 'drive':\n",
    "        leg_colors.append('green')\n",
    "        x0, x1 = leg[1], leg[2]\n",
    "        y1 = T\n",
    "        y0 = y1 - m[leg[3]]*(x1 - x0)\n",
    "        T -= y1 - y0\n",
    "        leg_segments.append([(x0, y0), (x1, y1)])\n",
    "        \n",
    "    elif leg[0] == 'rest':\n",
    "        leg_colors.append('red')\n",
    "        x0, x1 = leg[1], leg[2]\n",
    "        y0, y1 = T, T\n",
    "        leg_segments.append([(x0, y0), (x1, y1)])\n",
    "        \n",
    "    elif leg[0] == 'wait':\n",
    "        leg_colors.append('yellow')\n",
    "        x0, x1 = leg[1], leg[2]\n",
    "        y0, y1 = T, T\n",
    "        leg_segments.append([(x0, y0), (x1, y1)])\n",
    "        \n",
    "        \n",
    "leg_segments = collections.LineCollection(leg_segments, colors=leg_colors)\n",
    "time_segments = collections.LineCollection(time_segments_coordinates, colors='grey')\n",
    "\n",
    "for i, _ in enumerate(WINDOWS):\n",
    "    ax.axhline(10*i, color='grey', linestyle='--', alpha=0.5)\n",
    "    \n",
    "ax.add_collection(time_segments)\n",
    "ax.add_collection(leg_segments)\n",
    "\n"
   ]
  }
 ],
 "metadata": {
  "kernelspec": {
   "display_name": "Python 3",
   "language": "python",
   "name": "python3"
  },
  "language_info": {
   "codemirror_mode": {
    "name": "ipython",
    "version": 3
   },
   "file_extension": ".py",
   "mimetype": "text/x-python",
   "name": "python",
   "nbconvert_exporter": "python",
   "pygments_lexer": "ipython3",
   "version": "3.6.2"
  }
 },
 "nbformat": 4,
 "nbformat_minor": 2
}
