{
 "cells": [
  {
   "cell_type": "code",
   "execution_count": 3,
   "metadata": {},
   "outputs": [],
   "source": [
    "import pandas as pd\n",
    "import matplotlib.pyplot as plt\n",
    "from matplotlib import collections\n",
    "import matplotlib.patches as mpatches\n",
    "\n",
    "from utils import TimeWindow, TripInterval, TripStats, construct_trip\n",
    "from tsp import smart_trip"
   ]
  },
  {
   "cell_type": "markdown",
   "metadata": {},
   "source": [
    "### Create Warehouse Time Windows and Drive Times\n",
    "\n",
    "TimeWindow(start, end), defined order of first destination to last. Each time is measured in hours since time=0."
   ]
  },
  {
   "cell_type": "code",
   "execution_count": 32,
   "metadata": {},
   "outputs": [],
   "source": [
    "WINDOWS = (TimeWindow(10, 15), # start\n",
    "           TimeWindow(3, 18),\n",
    "           TimeWindow(10, 18),\n",
    "           TimeWindow(15, 35),\n",
    "           TimeWindow(40, 45),\n",
    "           TimeWindow(75, 100),\n",
    "           TimeWindow(75, 100)) # end"
   ]
  },
  {
   "cell_type": "markdown",
   "metadata": {},
   "source": [
    "Travel times between destinations."
   ]
  },
  {
   "cell_type": "code",
   "execution_count": 33,
   "metadata": {},
   "outputs": [],
   "source": [
    "travel_times = (6,2,4,10,10,15)"
   ]
  },
  {
   "cell_type": "markdown",
   "metadata": {},
   "source": [
    "Create TripStats object."
   ]
  },
  {
   "cell_type": "code",
   "execution_count": 34,
   "metadata": {},
   "outputs": [],
   "source": [
    "TS = TripStats(WINDOWS, travel_times)"
   ]
  },
  {
   "cell_type": "markdown",
   "metadata": {},
   "source": [
    "Execute SmartTrip algorithm."
   ]
  },
  {
   "cell_type": "code",
   "execution_count": 35,
   "metadata": {},
   "outputs": [],
   "source": [
    "results = smart_trip(TS)"
   ]
  },
  {
   "cell_type": "code",
   "execution_count": 36,
   "metadata": {},
   "outputs": [
    {
     "name": "stdout",
     "output_type": "stream",
     "text": [
      "Is this schedule possible? True\n"
     ]
    }
   ],
   "source": [
    "print(\"Is this schedule possible? {}\".format(results[0]))\n",
    "TS = results[1]"
   ]
  },
  {
   "cell_type": "code",
   "execution_count": 37,
   "metadata": {},
   "outputs": [],
   "source": [
    "legs = construct_trip(TS)\n",
    "legs_df = pd.DataFrame(legs[1], columns = ['type', 'end', 'start', 'last_stop'])"
   ]
  },
  {
   "cell_type": "markdown",
   "metadata": {},
   "source": [
    "Get arrival and departure times."
   ]
  },
  {
   "cell_type": "code",
   "execution_count": 38,
   "metadata": {},
   "outputs": [
    {
     "data": {
      "text/html": [
       "<div>\n",
       "<style scoped>\n",
       "    .dataframe tbody tr th:only-of-type {\n",
       "        vertical-align: middle;\n",
       "    }\n",
       "\n",
       "    .dataframe tbody tr th {\n",
       "        vertical-align: top;\n",
       "    }\n",
       "\n",
       "    .dataframe thead th {\n",
       "        text-align: right;\n",
       "    }\n",
       "</style>\n",
       "<table border=\"1\" class=\"dataframe\">\n",
       "  <thead>\n",
       "    <tr style=\"text-align: right;\">\n",
       "      <th></th>\n",
       "      <th>depart</th>\n",
       "      <th>arrive</th>\n",
       "    </tr>\n",
       "  </thead>\n",
       "  <tbody>\n",
       "    <tr>\n",
       "      <th>6</th>\n",
       "      <td>100.0</td>\n",
       "      <td>100.0</td>\n",
       "    </tr>\n",
       "    <tr>\n",
       "      <th>5</th>\n",
       "      <td>75.0</td>\n",
       "      <td>75.0</td>\n",
       "    </tr>\n",
       "    <tr>\n",
       "      <th>4</th>\n",
       "      <td>55.0</td>\n",
       "      <td>45.0</td>\n",
       "    </tr>\n",
       "    <tr>\n",
       "      <th>3</th>\n",
       "      <td>35.0</td>\n",
       "      <td>35.0</td>\n",
       "    </tr>\n",
       "    <tr>\n",
       "      <th>2</th>\n",
       "      <td>21.0</td>\n",
       "      <td>18.0</td>\n",
       "    </tr>\n",
       "    <tr>\n",
       "      <th>1</th>\n",
       "      <td>16.0</td>\n",
       "      <td>16.0</td>\n",
       "    </tr>\n",
       "    <tr>\n",
       "      <th>0</th>\n",
       "      <td>10.0</td>\n",
       "      <td>10.0</td>\n",
       "    </tr>\n",
       "  </tbody>\n",
       "</table>\n",
       "</div>"
      ],
      "text/plain": [
       "   depart  arrive\n",
       "6   100.0   100.0\n",
       "5    75.0    75.0\n",
       "4    55.0    45.0\n",
       "3    35.0    35.0\n",
       "2    21.0    18.0\n",
       "1    16.0    16.0\n",
       "0    10.0    10.0"
      ]
     },
     "execution_count": 38,
     "metadata": {},
     "output_type": "execute_result"
    }
   ],
   "source": [
    "report = TS.get_report()[['t_a', 't_d']].copy()\n",
    "report.columns = ['depart', 'arrive']\n",
    "report"
   ]
  },
  {
   "cell_type": "markdown",
   "metadata": {},
   "source": [
    "## Plot Journey\n",
    "Journey starts from top to bottom."
   ]
  },
  {
   "cell_type": "code",
   "execution_count": 39,
   "metadata": {},
   "outputs": [],
   "source": [
    "# compute total rest time between stop last_stop and last_stop - 1\n",
    "def compute_rest_times(legs, last_stop):\n",
    "    temp = legs.loc[(legs['type'] == 'rest') & (legs['last_stop'] == last_stop), :]\n",
    "    temp = temp['start'] - temp['end']\n",
    "    return temp.sum()  \n",
    "    \n",
    "# compute slope of rest time segment\n",
    "def compute_slope(p0, p1, rest_time):\n",
    "        return (p1[1] - p0[1])/(p1[0] - rest_time - p0[0])"
   ]
  },
  {
   "cell_type": "code",
   "execution_count": 40,
   "metadata": {},
   "outputs": [
    {
     "data": {
      "text/plain": [
       "<matplotlib.collections.LineCollection at 0x7f15381cea90>"
      ]
     },
     "execution_count": 40,
     "metadata": {},
     "output_type": "execute_result"
    },
    {
     "data": {
      "image/png": "[encoded data removed]",
      "text/plain": [
       "<Figure size 720x360 with 1 Axes>"
      ]
     },
     "metadata": {
      "needs_background": "light"
     },
     "output_type": "display_data"
    }
   ],
   "source": [
    "%matplotlib inline\n",
    "\n",
    "fig = plt.figure(figsize=(10,5))\n",
    "\n",
    "ax = fig.add_subplot(111)\n",
    "ax.axis('off')\n",
    "ax.set_ylim(0 - 5, 10*len(WINDOWS)+5)\n",
    "ax.set_xlim(0 - 5, WINDOWS[-1].l + 5)\n",
    "\n",
    "rest = mpatches.Patch(color='red', label='Rest')\n",
    "wait = mpatches.Patch(color='yellow', label='Wait')\n",
    "drive = mpatches.Patch(color='green', label='Drive')\n",
    "ax.legend(handles=[rest, wait, drive], loc='upper left')\n",
    "\n",
    "\n",
    "t_d = TS.t_d\n",
    "t_a = TS.t_a\n",
    "\n",
    "\n",
    "# compute slopes for driving segments\n",
    "s = len(WINDOWS)\n",
    "m = list()\n",
    "for i in reversed(range(s)):\n",
    "    rest_time = compute_rest_times(legs_df, i)\n",
    "    p0 = [t_a[i-1], 10*(i-1)]\n",
    "    p1 = [t_d[i], 10*i]\n",
    "    m.append(compute_slope(p0, p1, rest_time))\n",
    "    \n",
    "m = list(reversed(m))\n",
    "\n",
    "#create line segments for time windows\n",
    "time_segments_coordinates = list()\n",
    "for i, w in enumerate(WINDOWS):\n",
    "    \n",
    "    # vertical bars\n",
    "    x_e, x_l = w.e, w.l\n",
    "    y0, y1 = 10*i - 2, 10*i + 2\n",
    "    \n",
    "    # time windows\n",
    "    time_segments_coordinates.append([(x_e,y0), (x_e, y1)])\n",
    "    time_segments_coordinates.append([(x_l, y0), (x_l, y1)])\n",
    "    ax.text(x=x_l - 1, y=10*i + 3, s=x_l, fontsize=11)\n",
    "    ax.text(x=x_e - 1, y=10*i + 3, s=x_e, fontsize=11)\n",
    "    \n",
    "    # horizontal bars\n",
    "    time_segments_coordinates.append([(x_e, y0), (x_e + 1, y0)])\n",
    "    time_segments_coordinates.append([(x_e, y1), (x_e + 1, y1)])\n",
    "    time_segments_coordinates.append([(x_l, y0), (x_l - 1, y0)])\n",
    "    time_segments_coordinates.append([(x_l, y1), (x_l - 1, y1)])\n",
    "    \n",
    "    \n",
    "\n",
    "T = 10*len(travel_times)\n",
    "leg_colors = list()\n",
    "leg_segments = list()\n",
    "for leg in legs_df.itertuples(index=False):\n",
    "    \n",
    "    if leg[0] == 'drive':\n",
    "        leg_colors.append('green')\n",
    "        x0, x1 = leg[1], leg[2]\n",
    "        y1 = T\n",
    "        y0 = y1 - m[leg[3]]*(x1 - x0)\n",
    "        T -= y1 - y0\n",
    "        leg_segments.append([(x0, y0), (x1, y1)])\n",
    "        \n",
    "    elif leg[0] == 'rest':\n",
    "        leg_colors.append('red')\n",
    "        x0, x1 = leg[1], leg[2]\n",
    "        y0, y1 = T, T\n",
    "        leg_segments.append([(x0, y0), (x1, y1)])\n",
    "        \n",
    "    elif leg[0] == 'wait':\n",
    "        leg_colors.append('yellow')\n",
    "        x0, x1 = leg[1], leg[2]\n",
    "        y0, y1 = T, T\n",
    "        leg_segments.append([(x0, y0), (x1, y1)])\n",
    "        \n",
    "        \n",
    "leg_segments = collections.LineCollection(leg_segments, colors=leg_colors)\n",
    "time_segments = collections.LineCollection(time_segments_coordinates, colors='grey')\n",
    "\n",
    "for i, _ in enumerate(WINDOWS):\n",
    "    ax.axhline(10*i, color='grey', linestyle='--', alpha=0.5)\n",
    "    ax.text(y=10*i, x=-10, s=i, verticalalignment='center', fontsize=12)\n",
    "    \n",
    "ax.add_collection(time_segments)\n",
    "ax.add_collection(leg_segments)\n",
    "\n"
   ]
  }
 ],
 "metadata": {
  "kernelspec": {
   "display_name": "Python 3",
   "language": "python",
   "name": "python3"
  },
  "language_info": {
   "codemirror_mode": {
    "name": "ipython",
    "version": 3
   },
   "file_extension": ".py",
   "mimetype": "text/x-python",
   "name": "python",
   "nbconvert_exporter": "python",
   "pygments_lexer": "ipython3",
   "version": "3.6.8"
  }
 },
 "nbformat": 4,
 "nbformat_minor": 2
}
